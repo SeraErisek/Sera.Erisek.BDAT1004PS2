{
 "cells": [
  {
   "cell_type": "markdown",
   "id": "9acafc90",
   "metadata": {},
   "source": [
    " ### Question 1\n",
    "Consider the following Python module:\n",
    "\n",
    "a = 0\n",
    "\n",
    "def b():\n",
    "    global a\n",
    "    a = c(a)\n",
    "\n",
    "def c(a):\n",
    "    return a + 2\n",
    "\n",
    "After importing the module into the interpreter, you execute:\n",
    "\n",
    ">>> b()\n",
    ">>> b()\n",
    ">>> b()\n",
    ">>> a\n",
    "?\n",
    "What value is displayed when the last expression (a) is evaluated? Explain your answer by indicating what happens in every executed statement."
   ]
  },
  {
   "cell_type": "markdown",
   "id": "6b986b2c",
   "metadata": {},
   "source": [
    "### Answer 1"
   ]
  },
  {
   "cell_type": "code",
   "execution_count": 9,
   "id": "0a7e30a8",
   "metadata": {},
   "outputs": [
    {
     "data": {
      "text/plain": [
       "6"
      ]
     },
     "execution_count": 9,
     "metadata": {},
     "output_type": "execute_result"
    }
   ],
   "source": [
    "  \n",
    "a = 0 # we set global a as 0 in the beginning.\n",
    "\n",
    "def b(): # funct. b is defined as follows\n",
    "    global a # from now on, this local a is global a\n",
    "    a = c(a) # new global a is defined by function c. First run, global a takes value 2, second run 4 and third run it takes 6.\n",
    "\n",
    "def c(a):\n",
    "    return a + 2 # first step c is 0+2=2. Second run c is 2+2=4, third run c is 4+2=6\n",
    "\n",
    "b() #\n",
    "b()\n",
    "b()\n",
    "a"
   ]
  },
  {
   "cell_type": "markdown",
   "id": "f65bf97c",
   "metadata": {},
   "source": [
    "### Question 2 \n",
    "Function fileLength(), given to you, takes the name of a file as input and returns the length of the file: \n",
    "\n",
    ">>> fileLength('midterm.py') \n",
    "284 \n",
    ">>> fileLength('idterm.py') \n",
    "\n",
    "Traceback (most recent call last): \n",
    "    File \"<pyshell#34>\", line 1, in <module> \n",
    "        fileLength('idterm.py') \n",
    "    File \"/Users/me/midterm.py\", line 3, in fileLength \n",
    "        infile = open(filename) \n",
    "FileNotFoundError: [Errno 2] No such file or directory: \n",
    "'idterm.py'\n",
    "    \n",
    "As shown above, if the file cannot be found by the interpreter or if it cannot be read as a text file, an exception will be raised. Modify function fileLength() so that a friendly message is printed instead: \n",
    "    \n",
    ">>> fileLength('midterm.py') \n",
    "358 \n",
    ">>> fileLength('idterm.py') \n",
    "File idterm.py not found.\n",
    "    "
   ]
  },
  {
   "cell_type": "markdown",
   "id": "6456957f",
   "metadata": {},
   "source": [
    "### Answer 2"
   ]
  },
  {
   "cell_type": "code",
   "execution_count": 91,
   "id": "217c7306",
   "metadata": {},
   "outputs": [
    {
     "name": "stdout",
     "output_type": "stream",
     "text": [
      "123\n",
      "File ilelength.txt not found\n"
     ]
    }
   ],
   "source": [
    "def fileLength(filename):\n",
    "   # 'converts first line of file filename to an integer and prints it'\n",
    "    try:\n",
    "        infile = open(filename)\n",
    "        contains = infile.read()\n",
    "        length = len(contains)\n",
    "        print(length)\n",
    "\n",
    "    except FileNotFoundError: #You can list these exceptions. TEBDEN HATIRLA BUTUN EXCEPTIONLARI TEK TEK TEST ETMISTINIZ\n",
    "        #print(f\"File '{filename}' not found.\")\n",
    "        print(\"File \" + filename + \" not found\")\n",
    "fileLength('Filelength.txt')\n",
    "fileLength('ilelength.txt')"
   ]
  },
  {
   "cell_type": "markdown",
   "id": "e385a3c9",
   "metadata": {},
   "source": [
    "### Question 3 \n",
    "Write a class named Marsupial that can be used as shown below: \n",
    "\n",
    ">>> m = Marsupial() \n",
    ">>> m.put_in_pouch('doll') \n",
    ">>> m.put_in_pouch('firetruck') \n",
    ">>> m.put_in_pouch('kitten') \n",
    ">>> m.pouch_contents() ['doll', 'firetruck', 'kitten']\n",
    "\n",
    "Now write a class named Kangaroo as a subclass of Marsupial that inherits all the attributes of Marsupial and also:\n",
    "\n",
    "a. extends the Marsupial __init__ constructor to take, as input, the coordinates x and y of the Kangaroo object,\n",
    "\n",
    "b. supports method jump that takes number values dx and dy as input and moves the kangaroo by dx units along the x-axis and by dy units along the y-axis, and\n",
    "\n",
    "c. overloads the __str__ operator so it behaves as shown below.\n",
    "\n",
    ">>> k = Kangaroo(0,0) \n",
    ">>> print(k) I am a Kangaroo located at coordinates (0,0) \n",
    ">>> k.put_in_pouch('doll') \n",
    ">>> k.put_in_pouch('firetruck') \n",
    ">>> k.put_in_pouch('kitten') \n",
    ">>> k.pouch_contents() ['doll', 'firetruck', 'kitten'] \n",
    ">>> k.jump(1,0) \n",
    ">>> k.jump(1,0) \n",
    ">>> k.jump(1,0) \n",
    ">>> print(k) I am a Kangaroo located at coordinates (3,0)"
   ]
  },
  {
   "cell_type": "markdown",
   "id": "62eaceda",
   "metadata": {},
   "source": [
    "### Answer 3"
   ]
  },
  {
   "cell_type": "code",
   "execution_count": 114,
   "id": "b9b99210",
   "metadata": {},
   "outputs": [
    {
     "name": "stdout",
     "output_type": "stream",
     "text": [
      "['doll', 'firetruck', 'kitten']\n",
      "I am a Kangaroo located at coordinates (0,0)\n",
      "['doll', 'firetruck', 'kitten']\n",
      "I am a Kangaroo located at coordinates (3,0)\n"
     ]
    }
   ],
   "source": [
    "class Marsupial():\n",
    "    \n",
    "    def __init__(self):\n",
    "        self.pouch = []\n",
    "    \n",
    "    def put_in_pouch(self, item):\n",
    "        self.pouch.append(item)\n",
    "        \n",
    "    def pouch_contents(self):\n",
    "        return self.pouch\n",
    "    \n",
    "    \n",
    "class Kangaroo(Marsupial):\n",
    "    \n",
    "    def __init__(self, x, y):\n",
    "        super().__init__()\n",
    "        self.x = x\n",
    "        self.y = y\n",
    "        \n",
    "    def jump(self, dx, dy):\n",
    "        self.x += dx\n",
    "        self.y += dy\n",
    "\n",
    "    def __str__(self):\n",
    "        return (f\"I am a Kangaroo located at coordinates ({self.x},{self.y})\")\n",
    "\n",
    "# Marsupial outputs\n",
    "\n",
    "m = Marsupial()\n",
    "m.put_in_pouch('doll')\n",
    "m.put_in_pouch('firetruck')\n",
    "m.put_in_pouch('kitten')\n",
    "print(m.pouch_contents())\n",
    "\n",
    "\n",
    "# Kangaroo outputs\n",
    "\n",
    "k = Kangaroo(0, 0)\n",
    "print(k)\n",
    "\n",
    "k.put_in_pouch('doll')\n",
    "k.put_in_pouch('firetruck')\n",
    "k.put_in_pouch('kitten')\n",
    "print(k.pouch_contents())\n",
    "\n",
    "k.jump(1, 0)\n",
    "k.jump(1, 0)\n",
    "k.jump(1, 0)\n",
    "print(k) "
   ]
  },
  {
   "cell_type": "markdown",
   "id": "ce0274d4",
   "metadata": {},
   "source": [
    "### Question 4\n",
    "Write function collatz() that takes a positive integer x as input and prints the Collatz sequence starting at x. A Collatz sequence is obtained by repeatedly applying this rule to the previous number x in the sequence:\n",
    "\n",
    "x = { 𝑥/2  𝑖𝑓 𝑥 𝑖𝑠 𝑒𝑣𝑒𝑛\n",
    "    { 3𝑥+1 𝑖𝑓 𝑥 𝑖𝑠 𝑜𝑑𝑑\n",
    "\n",
    "Your function should stop when the sequence gets to number 1. Your implementation must be recursive, without any loops.\n",
    "\n",
    ">>> collatz(1)\n",
    "1\n",
    ">>> collatz(10)\n",
    "10\n",
    "5\n",
    "16\n",
    "8\n",
    "4\n",
    "2\n",
    "1"
   ]
  },
  {
   "cell_type": "markdown",
   "id": "4d83e6cb",
   "metadata": {},
   "source": [
    "### Answer 4"
   ]
  },
  {
   "cell_type": "code",
   "execution_count": 1,
   "id": "9f488722",
   "metadata": {},
   "outputs": [
    {
     "name": "stdout",
     "output_type": "stream",
     "text": [
      "10\n",
      "5\n",
      "16\n",
      "8\n",
      "4\n",
      "2\n",
      "1\n"
     ]
    }
   ],
   "source": [
    "\n",
    "def collatz(x):\n",
    "    print(int(x))\n",
    "    if x == 1:\n",
    "        return\n",
    "    if x % 2 == 0:\n",
    "        collatz(x=x/2) #recursive\n",
    "    elif x % 2 == 1:\n",
    "        collatz(x=3*x+1) #recursive\n",
    "   \n",
    "collatz(10)    "
   ]
  },
  {
   "cell_type": "markdown",
   "id": "2896cca1",
   "metadata": {},
   "source": [
    "### Question 5 \n",
    "Write a recursive method binary() that takes a non-negative integer n and prints the binary representation of integer n. \n",
    ">>> binary(0) 0 \n",
    ">>> binary(1) 1 \n",
    ">>> binary(3) 11 \n",
    ">>> binary(9) 1001"
   ]
  },
  {
   "cell_type": "markdown",
   "id": "1624f406",
   "metadata": {},
   "source": [
    "### Answer 5"
   ]
  },
  {
   "cell_type": "code",
   "execution_count": 4,
   "id": "18abbc86",
   "metadata": {},
   "outputs": [
    {
     "name": "stdout",
     "output_type": "stream",
     "text": [
      "1001"
     ]
    }
   ],
   "source": [
    "def binary(n):\n",
    "    if n < 2: #base case where n is either 0 or 1\n",
    "        print(n, end='') \n",
    "    else: #where n is greater or equal to 2\n",
    "        binary(n//2) #recursive part\n",
    "        print(n % 2, end='')\n",
    "\n",
    "binary(9)\n"
   ]
  },
  {
   "cell_type": "markdown",
   "id": "de7db7f6",
   "metadata": {},
   "source": [
    "### Question 8\n",
    "Write SQL queries on the below database table that return:\n",
    "a) All the temperature data.\n",
    "b) All the cities, but without repetition.\n",
    "c) All the records for India.\n",
    "d) All the Fall records.\n",
    "e) The city, country, and season for which the average rainfall is between 200 and 400 millimeters.\n",
    "f) The city and country for which the average Fall temperature is above 20 degrees, in increasing temperature order.\n",
    "g) The total annual rainfall for Cairo.\n",
    "h) The total rainfall for each season.\n"
   ]
  },
  {
   "cell_type": "code",
   "execution_count": 76,
   "id": "c3e69f63",
   "metadata": {},
   "outputs": [],
   "source": [
    "#Creating DB \n",
    "\n",
    "import sqlite3\n",
    "con = sqlite3.connect('weather_rain_city.db')\n",
    "cur = con.cursor()\n",
    "cur.execute(\"create table Weather (City text, Country text, Season text, Temperature double, Rainfall double)\")\n",
    "con.commit()\n",
    "con.close()"
   ]
  },
  {
   "cell_type": "code",
   "execution_count": 77,
   "id": "7c727035",
   "metadata": {},
   "outputs": [],
   "source": [
    "#inserting values in the table\n",
    "\n",
    "con=sqlite3.connect('weather_rain_city.db')\n",
    "cur=con.cursor()\n",
    "rows = [('Mumbai', 'India', 'Winter', 24.8, 5.9), ('Mumbai', 'India', 'Spring', 28.4, 16.2), ('Mumbai', 'India', 'Summer', 27.9, 1549.4), ('Mumbai', 'India', 'Fall', 27.6, 346.0), ('London', 'United Kingdom', 'Winter', 4.2 , 207.7), ('London', 'United Kingdom', 'Spring', 8.3 , 169.6), ('London', 'United Kingdom', 'Summer', 15.7, 157), ('London', 'United Kingdom', 'Fall', 10.4, 218.5), ('Cairo', 'Egypt', 'Winter', 13.6, 16.5), ('Cairo', 'Egypt', 'Spring', 20.7, 6.5), ('Cairo', 'Egypt', 'Summer', 27.7, 0.1), ('Cairo', 'Egypt', 'Fall', 22.2, 4.5)]\n",
    "for row in rows:\n",
    "    cur.execute(\"insert into Weather values (?,?,?,?,?)\", (row[0], row[1], row[2], row[3], row[4]))\n",
    "con.commit()\n",
    "con.close()"
   ]
  },
  {
   "cell_type": "code",
   "execution_count": 78,
   "id": "7f4fc5bf",
   "metadata": {},
   "outputs": [
    {
     "data": {
      "text/plain": [
       "[('Mumbai', 'India', 'Winter', 24.8, 5.9),\n",
       " ('Mumbai', 'India', 'Spring', 28.4, 16.2),\n",
       " ('Mumbai', 'India', 'Summer', 27.9, 1549.4),\n",
       " ('Mumbai', 'India', 'Fall', 27.6, 346.0),\n",
       " ('London', 'United Kingdom', 'Winter', 4.2, 207.7),\n",
       " ('London', 'United Kingdom', 'Spring', 8.3, 169.6),\n",
       " ('London', 'United Kingdom', 'Summer', 15.7, 157.0),\n",
       " ('London', 'United Kingdom', 'Fall', 10.4, 218.5),\n",
       " ('Cairo', 'Egypt', 'Winter', 13.6, 16.5),\n",
       " ('Cairo', 'Egypt', 'Spring', 20.7, 6.5),\n",
       " ('Cairo', 'Egypt', 'Summer', 27.7, 0.1),\n",
       " ('Cairo', 'Egypt', 'Fall', 22.2, 4.5)]"
      ]
     },
     "execution_count": 78,
     "metadata": {},
     "output_type": "execute_result"
    }
   ],
   "source": [
    "#All the data\n",
    "\n",
    "con=sqlite3.connect('weather_rain_city.db')\n",
    "cur=con.cursor()\n",
    "cur.execute('select * from Weather')\n",
    "cur.fetchall()"
   ]
  },
  {
   "cell_type": "markdown",
   "id": "5f278150",
   "metadata": {},
   "source": [
    "### Answer 8"
   ]
  },
  {
   "cell_type": "code",
   "execution_count": 79,
   "id": "03b967ec",
   "metadata": {},
   "outputs": [
    {
     "data": {
      "text/plain": [
       "[(24.8,),\n",
       " (28.4,),\n",
       " (27.9,),\n",
       " (27.6,),\n",
       " (4.2,),\n",
       " (8.3,),\n",
       " (15.7,),\n",
       " (10.4,),\n",
       " (13.6,),\n",
       " (20.7,),\n",
       " (27.7,),\n",
       " (22.2,)]"
      ]
     },
     "execution_count": 79,
     "metadata": {},
     "output_type": "execute_result"
    }
   ],
   "source": [
    "# 8.a\n",
    "\n",
    "con=sqlite3.connect('weather_rain_city.db')\n",
    "cur=con.cursor()\n",
    "cur.execute(\"SELECT Temperature FROM Weather\")\n",
    "cur.fetchall()"
   ]
  },
  {
   "cell_type": "code",
   "execution_count": 80,
   "id": "18ba47ae",
   "metadata": {},
   "outputs": [
    {
     "data": {
      "text/plain": [
       "[('Mumbai',), ('London',), ('Cairo',)]"
      ]
     },
     "execution_count": 80,
     "metadata": {},
     "output_type": "execute_result"
    }
   ],
   "source": [
    "# 8.b\n",
    "\n",
    "con=sqlite3.connect('weather_rain_city.db')\n",
    "cur=con.cursor()\n",
    "cur.execute(\"SELECT DISTINCT City FROM Weather;\")\n",
    "cur.fetchall()"
   ]
  },
  {
   "cell_type": "code",
   "execution_count": 81,
   "id": "ca284892",
   "metadata": {},
   "outputs": [
    {
     "data": {
      "text/plain": [
       "[('Mumbai', 'India', 'Winter', 24.8, 5.9),\n",
       " ('Mumbai', 'India', 'Spring', 28.4, 16.2),\n",
       " ('Mumbai', 'India', 'Summer', 27.9, 1549.4),\n",
       " ('Mumbai', 'India', 'Fall', 27.6, 346.0)]"
      ]
     },
     "execution_count": 81,
     "metadata": {},
     "output_type": "execute_result"
    }
   ],
   "source": [
    "# 8.c\n",
    "\n",
    "con=sqlite3.connect('weather_rain_city.db')\n",
    "cur=con.cursor()\n",
    "cur.execute(\"SELECT * FROM Weather WHERE Country = 'India';\")\n",
    "cur.fetchall()"
   ]
  },
  {
   "cell_type": "code",
   "execution_count": 82,
   "id": "3edfe1b7",
   "metadata": {},
   "outputs": [
    {
     "data": {
      "text/plain": [
       "[('Mumbai', 'India', 'Fall', 27.6, 346.0),\n",
       " ('London', 'United Kingdom', 'Fall', 10.4, 218.5),\n",
       " ('Cairo', 'Egypt', 'Fall', 22.2, 4.5)]"
      ]
     },
     "execution_count": 82,
     "metadata": {},
     "output_type": "execute_result"
    }
   ],
   "source": [
    "# 8.d\n",
    "\n",
    "con=sqlite3.connect('weather_rain_city.db')\n",
    "cur=con.cursor()\n",
    "cur.execute(\"SELECT * FROM Weather WHERE Season = 'Fall';\")\n",
    "cur.fetchall()"
   ]
  },
  {
   "cell_type": "code",
   "execution_count": 83,
   "id": "df31b316",
   "metadata": {},
   "outputs": [
    {
     "data": {
      "text/plain": [
       "[('London', 'United Kingdom', 'Fall'),\n",
       " ('London', 'United Kingdom', 'Winter'),\n",
       " ('Mumbai', 'India', 'Fall')]"
      ]
     },
     "execution_count": 83,
     "metadata": {},
     "output_type": "execute_result"
    }
   ],
   "source": [
    "# 8.e\n",
    "\n",
    "con=sqlite3.connect('weather_rain_city.db')\n",
    "cur=con.cursor()\n",
    "cur.execute(\"SELECT City, Country, Season FROM Weather GROUP BY City, Country, Season HAVING AVG(Rainfall) BETWEEN 200 AND 400;\")\n",
    "cur.fetchall()"
   ]
  },
  {
   "cell_type": "code",
   "execution_count": 84,
   "id": "f2edfab5",
   "metadata": {},
   "outputs": [
    {
     "data": {
      "text/plain": [
       "[('Cairo', 'Egypt'), ('Mumbai', 'India')]"
      ]
     },
     "execution_count": 84,
     "metadata": {},
     "output_type": "execute_result"
    }
   ],
   "source": [
    "# 8.f\n",
    "\n",
    "con=sqlite3.connect('weather_rain_city.db')\n",
    "cur=con.cursor()\n",
    "cur.execute(\"SELECT City, Country FROM Weather WHERE Season = 'Fall' GROUP BY City, Country HAVING AVG(Temperature) > 20 ORDER BY AVG(Temperature);\")  #Default is ascending\n",
    "cur.fetchall()"
   ]
  },
  {
   "cell_type": "code",
   "execution_count": 85,
   "id": "5df7a67a",
   "metadata": {},
   "outputs": [
    {
     "data": {
      "text/plain": [
       "[(27.6,)]"
      ]
     },
     "execution_count": 85,
     "metadata": {},
     "output_type": "execute_result"
    }
   ],
   "source": [
    "# 8.g\n",
    "\n",
    "con=sqlite3.connect('weather_rain_city.db')\n",
    "cur=con.cursor()\n",
    "cur.execute(\"SELECT SUM(Rainfall) FROM Weather WHERE City = 'Cairo'; \")\n",
    "cur.fetchall()"
   ]
  },
  {
   "cell_type": "code",
   "execution_count": 86,
   "id": "eb393f8e",
   "metadata": {},
   "outputs": [
    {
     "data": {
      "text/plain": [
       "[('Fall', 569.0),\n",
       " ('Spring', 192.29999999999998),\n",
       " ('Summer', 1706.5),\n",
       " ('Winter', 230.1)]"
      ]
     },
     "execution_count": 86,
     "metadata": {},
     "output_type": "execute_result"
    }
   ],
   "source": [
    "# 8.h\n",
    "\n",
    "con=sqlite3.connect('weather_rain_city.db')\n",
    "cur=con.cursor()\n",
    "cur.execute(\"SELECT Season, SUM(Rainfall) FROM Weather GROUP BY Season;\")\n",
    "cur.fetchall()"
   ]
  },
  {
   "cell_type": "markdown",
   "id": "53e5e735",
   "metadata": {},
   "source": [
    "### Question 9\n",
    "Suppose list words is defined as follows:\n",
    "\n",
    ">>> words = ['The', 'quick', 'brown', 'fox', 'jumps', 'over', 'the', 'lazy', 'dog']\n",
    "\n",
    "Write list comprehension expressions that use list words and generate the following lists:\n",
    "\n",
    "a) ['THE', 'QUICK', 'BROWN', 'FOX', 'JUMPS', 'OVER', 'THE', 'LAZY', 'DOG']\n",
    "b) ['the', 'quick', 'brown', 'fox', 'jumps', 'over', 'the', 'lazy', 'dog']\n",
    "c) [3, 5, 5, 3, 5, 4, 3, 4, 3] (the list of lengths of words in list words).\n",
    "d) [['THE', 'the', 3], ['QUICK', 'quick', 5], ['BROWN', 'brown', 5], ['FOX', 'fox', 3], ['JUMPS', 'jumps', 5], ['OVER', 'over', 4], ['THE', 'the', 3], ['LAZY', 'lazy', 4], ['DOG', 'dog', 3]] (the list containing a list for every word of list words, where each list contains the word in uppercase and lowercase and the length of the word.)\n",
    "e) ['The', 'quick', 'brown', 'fox', 'jumps', 'over', 'the', 'lazy', 'dog'] (the list of words in list words containing 4 or more characters.)"
   ]
  },
  {
   "cell_type": "markdown",
   "id": "d258842a",
   "metadata": {},
   "source": [
    "### Answer 9"
   ]
  },
  {
   "cell_type": "code",
   "execution_count": 5,
   "id": "a52f3716",
   "metadata": {},
   "outputs": [
    {
     "name": "stdout",
     "output_type": "stream",
     "text": [
      "a)\n",
      "['THE', 'QUICK', 'BROWN', 'FOX', 'JUMPS', 'OVER', 'THE', 'LAZY', 'DOG']\n",
      "b)\n",
      "['the', 'quick', 'brown', 'fox', 'jumps', 'over', 'the', 'lazy', 'dog']\n",
      "c)\n",
      "[3, 5, 5, 3, 5, 4, 3, 4, 3]\n",
      "d)\n",
      "[['THE', 'the', 3], ['QUICK', 'quick', 5], ['BROWN', 'brown', 5], ['FOX', 'fox', 3], ['JUMPS', 'jumps', 5], ['OVER', 'over', 4], ['THE', 'the', 3], ['LAZY', 'lazy', 4], ['DOG', 'dog', 3]]\n",
      "e)\n",
      "['quick', 'brown', 'jumps', 'over', 'lazy']\n"
     ]
    }
   ],
   "source": [
    "\n",
    "words = ['The', 'quick', 'brown', 'fox', 'jumps', 'over', 'the', 'lazy', 'dog']\n",
    "\n",
    "    \n",
    "# a \n",
    "all_upper_words = [word.upper() for word in words]\n",
    "print(\"a)\")\n",
    "print(all_upper_words)\n",
    "\n",
    "# b\n",
    "all_lower_words = [word.lower() for word in words]\n",
    "print(\"b)\")\n",
    "print(all_lower_words)\n",
    "\n",
    "# c\n",
    "lengths_of_list = [len(word) for word in words]\n",
    "print(\"c)\")\n",
    "print(lengths_of_list)\n",
    "\n",
    "# d\n",
    "word_info_from_previous_codes = [[word.upper(), word.lower(), len(word)] for word in words]\n",
    "print(\"d)\")\n",
    "print(word_info_from_previous_codes)\n",
    "\n",
    "# e\n",
    "long_words = [word for word in words if len(word) >= 4]\n",
    "print(\"e)\")\n",
    "print(long_words)"
   ]
  },
  {
   "cell_type": "code",
   "execution_count": null,
   "id": "025ecbcc",
   "metadata": {},
   "outputs": [],
   "source": []
  }
 ],
 "metadata": {
  "kernelspec": {
   "display_name": "Python 3 (ipykernel)",
   "language": "python",
   "name": "python3"
  },
  "language_info": {
   "codemirror_mode": {
    "name": "ipython",
    "version": 3
   },
   "file_extension": ".py",
   "mimetype": "text/x-python",
   "name": "python",
   "nbconvert_exporter": "python",
   "pygments_lexer": "ipython3",
   "version": "3.10.9"
  }
 },
 "nbformat": 4,
 "nbformat_minor": 5
}
